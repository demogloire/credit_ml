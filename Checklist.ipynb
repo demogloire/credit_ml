{
 "cells": [
  {
   "cell_type": "markdown",
   "metadata": {},
   "source": [
    "# Exploratory Data Analysis"
   ]
  },
  {
   "cell_type": "markdown",
   "metadata": {},
   "source": [
    "**Objectif:** Avec les infromations duc client determiné s'il est éligible pour avoir un credit\n",
    "\n",
    "## Checklist de base (non-exhaustive)\n",
    "### Analyse de la forme:\n",
    "* Identification de la target: Loan_Status\n",
    "* Nombre de lignes et de colonnes : Lignes 614, Colonne 13\n",
    "* Types de variables: 8 objects, 4 float, 1 int\n",
    "* Identification des valeurs manquantes: Il y'a peut de données manque\n",
    "\n",
    "### Analyse du fond:\n",
    "* Visualisation de la target: La variable target  est un peu désequilibré car peu des agents sur bases de leurs informations ont eu le credit soit 422 ont le crédit et seulement et 192 n'ont pas eu ca.\n",
    "* Compréhension des differentes variables: \n",
    "   * Les variables continues: LoanAmount, est la seul variable qui suit une distribution normaliser, CoapplicantIncome  suit une distribution asymetrique\n",
    "   * Les categorielles: certaines sont binaire et d'autres ne le son pas, nous avons beacoup des hommes qui demandent le crédit que les femmes, un nombre élévé des mariés aussi, sont les gens qui ont un niveau élevé d'étude qui demande le credit et beacoup d'entre eux travaillent a leurs propres compte et la pluspart viens dans le milieu semi urbain, que urbain et moins que rural et beacoup finissent par avoir le credit\n",
    "\n",
    "\n",
    "* Identification des outliers\n",
    "\n",
    "\n",
    "### Analyse plus détaillée\n",
    "* **Rélation variables /variables**:\n",
    "     - Le credit / Montant souhaité: Il existe une correlation entre la montant souhait.\n",
    "     - Le credit / Historique : Plus vous avez une histrique du creit plus vous avez la chance d'avoir un credit\n",
    "\n",
    "\n",
    "\n",
    " ###  Hypotheses nulle (H0):\n",
    " * Les individus atteints du covid-19 ont des taux de Leukocytes, Monocytes, Platelets significativements differents\n",
    " * Les individus atteints d'une quelconque maladie ont des taux significativement differents\n",
    " \n",
    " \n"
   ]
  },
  {
   "cell_type": "markdown",
   "metadata": {},
   "source": [
    "# Pre-processing"
   ]
  },
  {
   "cell_type": "markdown",
   "metadata": {},
   "source": [
    "**Objectif:** transformer le data pour le metttre dans un format propice au Machine Laerning\n",
    "    \n",
    "## Checklist de base (non-exhaustive)\n",
    "### Création du Train set / Test set\n",
    "* Elimination des NaN: dropna(), imputation, colonnes (Vides)\n",
    "* Encodage\n",
    "* Supression des outliers néfastes au modèle\n",
    "* Feature Engineering\n",
    "* Feature Scaling"
   ]
  },
  {
   "cell_type": "markdown",
   "metadata": {},
   "source": [
    "# Modelling"
   ]
  },
  {
   "cell_type": "markdown",
   "metadata": {},
   "source": [
    "**Objectif:** Développer un modèle de machine learning qui réponde a l'objectif final\n",
    "    \n",
    "## Checklist de base (non-exhaustive)\n",
    "* Définir une fonction d'évaluation\n",
    "* Entrainement de différents modèles\n",
    "* Optimisation avec GridSearchCV\n",
    "* (Optionnel) Analyse des erreurs et retour au Préprocessing /EDA\n",
    "* Learning Curve et prise de décision"
   ]
  },
  {
   "cell_type": "code",
   "execution_count": null,
   "metadata": {},
   "outputs": [],
   "source": []
  }
 ],
 "metadata": {
  "kernelspec": {
   "display_name": "Python 3",
   "language": "python",
   "name": "python3"
  },
  "language_info": {
   "codemirror_mode": {
    "name": "ipython",
    "version": 3
   },
   "file_extension": ".py",
   "mimetype": "text/x-python",
   "name": "python",
   "nbconvert_exporter": "python",
   "pygments_lexer": "ipython3",
   "version": "3.7.7"
  }
 },
 "nbformat": 4,
 "nbformat_minor": 4
}
